{
 "cells": [
  {
   "cell_type": "code",
   "id": "initial_id",
   "metadata": {
    "collapsed": true,
    "ExecuteTime": {
     "end_time": "2025-04-26T21:41:17.132472Z",
     "start_time": "2025-04-26T21:41:17.129271Z"
    }
   },
   "source": "import torch, numpy as np, pandas as pd",
   "outputs": [],
   "execution_count": 148
  },
  {
   "metadata": {
    "ExecuteTime": {
     "end_time": "2025-04-26T21:41:17.164101Z",
     "start_time": "2025-04-26T21:41:17.152884Z"
    }
   },
   "cell_type": "code",
   "source": [
    "df = pd.read_csv(\"titanic.csv\")\n",
    "df.sample(10)"
   ],
   "id": "a8eac5df5c565793",
   "outputs": [
    {
     "data": {
      "text/plain": [
       "     PassengerId  Survived  Pclass  \\\n",
       "231          232         0       3   \n",
       "452          453         0       1   \n",
       "458          459         1       2   \n",
       "756          757         0       3   \n",
       "728          729         0       2   \n",
       "426          427         1       2   \n",
       "813          814         0       3   \n",
       "34            35         0       1   \n",
       "639          640         0       3   \n",
       "541          542         0       3   \n",
       "\n",
       "                                            Name     Sex   Age  SibSp  Parch  \\\n",
       "231                     Larsson, Mr. Bengt Edvin    male  29.0      0      0   \n",
       "452              Foreman, Mr. Benjamin Laventall    male  30.0      0      0   \n",
       "458                          Toomey, Miss. Ellen  female  50.0      0      0   \n",
       "756                 Carlsson, Mr. August Sigfrid    male  28.0      0      0   \n",
       "728              Bryhl, Mr. Kurt Arnold Gottfrid    male  25.0      1      0   \n",
       "426  Clarke, Mrs. Charles V (Ada Maria Winfield)  female  28.0      1      0   \n",
       "813           Andersson, Miss. Ebba Iris Alfrida  female   6.0      4      2   \n",
       "34                       Meyer, Mr. Edgar Joseph    male  28.0      1      0   \n",
       "639                   Thorneycroft, Mr. Percival    male   NaN      1      0   \n",
       "541         Andersson, Miss. Ingeborg Constanzia  female   9.0      4      2   \n",
       "\n",
       "           Ticket     Fare Cabin Embarked  \n",
       "231        347067   7.7750   NaN        S  \n",
       "452        113051  27.7500  C111        C  \n",
       "458  F.C.C. 13531  10.5000   NaN        S  \n",
       "756        350042   7.7958   NaN        S  \n",
       "728        236853  26.0000   NaN        S  \n",
       "426          2003  26.0000   NaN        S  \n",
       "813        347082  31.2750   NaN        S  \n",
       "34       PC 17604  82.1708   NaN        C  \n",
       "639        376564  16.1000   NaN        S  \n",
       "541        347082  31.2750   NaN        S  "
      ],
      "text/html": [
       "<div>\n",
       "<style scoped>\n",
       "    .dataframe tbody tr th:only-of-type {\n",
       "        vertical-align: middle;\n",
       "    }\n",
       "\n",
       "    .dataframe tbody tr th {\n",
       "        vertical-align: top;\n",
       "    }\n",
       "\n",
       "    .dataframe thead th {\n",
       "        text-align: right;\n",
       "    }\n",
       "</style>\n",
       "<table border=\"1\" class=\"dataframe\">\n",
       "  <thead>\n",
       "    <tr style=\"text-align: right;\">\n",
       "      <th></th>\n",
       "      <th>PassengerId</th>\n",
       "      <th>Survived</th>\n",
       "      <th>Pclass</th>\n",
       "      <th>Name</th>\n",
       "      <th>Sex</th>\n",
       "      <th>Age</th>\n",
       "      <th>SibSp</th>\n",
       "      <th>Parch</th>\n",
       "      <th>Ticket</th>\n",
       "      <th>Fare</th>\n",
       "      <th>Cabin</th>\n",
       "      <th>Embarked</th>\n",
       "    </tr>\n",
       "  </thead>\n",
       "  <tbody>\n",
       "    <tr>\n",
       "      <th>231</th>\n",
       "      <td>232</td>\n",
       "      <td>0</td>\n",
       "      <td>3</td>\n",
       "      <td>Larsson, Mr. Bengt Edvin</td>\n",
       "      <td>male</td>\n",
       "      <td>29.0</td>\n",
       "      <td>0</td>\n",
       "      <td>0</td>\n",
       "      <td>347067</td>\n",
       "      <td>7.7750</td>\n",
       "      <td>NaN</td>\n",
       "      <td>S</td>\n",
       "    </tr>\n",
       "    <tr>\n",
       "      <th>452</th>\n",
       "      <td>453</td>\n",
       "      <td>0</td>\n",
       "      <td>1</td>\n",
       "      <td>Foreman, Mr. Benjamin Laventall</td>\n",
       "      <td>male</td>\n",
       "      <td>30.0</td>\n",
       "      <td>0</td>\n",
       "      <td>0</td>\n",
       "      <td>113051</td>\n",
       "      <td>27.7500</td>\n",
       "      <td>C111</td>\n",
       "      <td>C</td>\n",
       "    </tr>\n",
       "    <tr>\n",
       "      <th>458</th>\n",
       "      <td>459</td>\n",
       "      <td>1</td>\n",
       "      <td>2</td>\n",
       "      <td>Toomey, Miss. Ellen</td>\n",
       "      <td>female</td>\n",
       "      <td>50.0</td>\n",
       "      <td>0</td>\n",
       "      <td>0</td>\n",
       "      <td>F.C.C. 13531</td>\n",
       "      <td>10.5000</td>\n",
       "      <td>NaN</td>\n",
       "      <td>S</td>\n",
       "    </tr>\n",
       "    <tr>\n",
       "      <th>756</th>\n",
       "      <td>757</td>\n",
       "      <td>0</td>\n",
       "      <td>3</td>\n",
       "      <td>Carlsson, Mr. August Sigfrid</td>\n",
       "      <td>male</td>\n",
       "      <td>28.0</td>\n",
       "      <td>0</td>\n",
       "      <td>0</td>\n",
       "      <td>350042</td>\n",
       "      <td>7.7958</td>\n",
       "      <td>NaN</td>\n",
       "      <td>S</td>\n",
       "    </tr>\n",
       "    <tr>\n",
       "      <th>728</th>\n",
       "      <td>729</td>\n",
       "      <td>0</td>\n",
       "      <td>2</td>\n",
       "      <td>Bryhl, Mr. Kurt Arnold Gottfrid</td>\n",
       "      <td>male</td>\n",
       "      <td>25.0</td>\n",
       "      <td>1</td>\n",
       "      <td>0</td>\n",
       "      <td>236853</td>\n",
       "      <td>26.0000</td>\n",
       "      <td>NaN</td>\n",
       "      <td>S</td>\n",
       "    </tr>\n",
       "    <tr>\n",
       "      <th>426</th>\n",
       "      <td>427</td>\n",
       "      <td>1</td>\n",
       "      <td>2</td>\n",
       "      <td>Clarke, Mrs. Charles V (Ada Maria Winfield)</td>\n",
       "      <td>female</td>\n",
       "      <td>28.0</td>\n",
       "      <td>1</td>\n",
       "      <td>0</td>\n",
       "      <td>2003</td>\n",
       "      <td>26.0000</td>\n",
       "      <td>NaN</td>\n",
       "      <td>S</td>\n",
       "    </tr>\n",
       "    <tr>\n",
       "      <th>813</th>\n",
       "      <td>814</td>\n",
       "      <td>0</td>\n",
       "      <td>3</td>\n",
       "      <td>Andersson, Miss. Ebba Iris Alfrida</td>\n",
       "      <td>female</td>\n",
       "      <td>6.0</td>\n",
       "      <td>4</td>\n",
       "      <td>2</td>\n",
       "      <td>347082</td>\n",
       "      <td>31.2750</td>\n",
       "      <td>NaN</td>\n",
       "      <td>S</td>\n",
       "    </tr>\n",
       "    <tr>\n",
       "      <th>34</th>\n",
       "      <td>35</td>\n",
       "      <td>0</td>\n",
       "      <td>1</td>\n",
       "      <td>Meyer, Mr. Edgar Joseph</td>\n",
       "      <td>male</td>\n",
       "      <td>28.0</td>\n",
       "      <td>1</td>\n",
       "      <td>0</td>\n",
       "      <td>PC 17604</td>\n",
       "      <td>82.1708</td>\n",
       "      <td>NaN</td>\n",
       "      <td>C</td>\n",
       "    </tr>\n",
       "    <tr>\n",
       "      <th>639</th>\n",
       "      <td>640</td>\n",
       "      <td>0</td>\n",
       "      <td>3</td>\n",
       "      <td>Thorneycroft, Mr. Percival</td>\n",
       "      <td>male</td>\n",
       "      <td>NaN</td>\n",
       "      <td>1</td>\n",
       "      <td>0</td>\n",
       "      <td>376564</td>\n",
       "      <td>16.1000</td>\n",
       "      <td>NaN</td>\n",
       "      <td>S</td>\n",
       "    </tr>\n",
       "    <tr>\n",
       "      <th>541</th>\n",
       "      <td>542</td>\n",
       "      <td>0</td>\n",
       "      <td>3</td>\n",
       "      <td>Andersson, Miss. Ingeborg Constanzia</td>\n",
       "      <td>female</td>\n",
       "      <td>9.0</td>\n",
       "      <td>4</td>\n",
       "      <td>2</td>\n",
       "      <td>347082</td>\n",
       "      <td>31.2750</td>\n",
       "      <td>NaN</td>\n",
       "      <td>S</td>\n",
       "    </tr>\n",
       "  </tbody>\n",
       "</table>\n",
       "</div>"
      ]
     },
     "execution_count": 149,
     "metadata": {},
     "output_type": "execute_result"
    }
   ],
   "execution_count": 149
  },
  {
   "metadata": {
    "ExecuteTime": {
     "end_time": "2025-04-26T21:41:17.231696Z",
     "start_time": "2025-04-26T21:41:17.226873Z"
    }
   },
   "cell_type": "code",
   "source": "df.isna().sum()",
   "id": "2a71e61d7ecc3903",
   "outputs": [
    {
     "data": {
      "text/plain": [
       "PassengerId      0\n",
       "Survived         0\n",
       "Pclass           0\n",
       "Name             0\n",
       "Sex              0\n",
       "Age            177\n",
       "SibSp            0\n",
       "Parch            0\n",
       "Ticket           0\n",
       "Fare             0\n",
       "Cabin          687\n",
       "Embarked         2\n",
       "dtype: int64"
      ]
     },
     "execution_count": 150,
     "metadata": {},
     "output_type": "execute_result"
    }
   ],
   "execution_count": 150
  },
  {
   "metadata": {
    "ExecuteTime": {
     "end_time": "2025-04-26T21:41:17.302113Z",
     "start_time": "2025-04-26T21:41:17.292287Z"
    }
   },
   "cell_type": "code",
   "source": [
    "modes = df.mode().iloc[0]\n",
    "modes"
   ],
   "id": "1aa98a4fdae2613",
   "outputs": [
    {
     "data": {
      "text/plain": [
       "PassengerId                      1\n",
       "Survived                       0.0\n",
       "Pclass                         3.0\n",
       "Name           Abbing, Mr. Anthony\n",
       "Sex                           male\n",
       "Age                           24.0\n",
       "SibSp                          0.0\n",
       "Parch                          0.0\n",
       "Ticket                        1601\n",
       "Fare                          8.05\n",
       "Cabin                      B96 B98\n",
       "Embarked                         S\n",
       "Name: 0, dtype: object"
      ]
     },
     "execution_count": 151,
     "metadata": {},
     "output_type": "execute_result"
    }
   ],
   "execution_count": 151
  },
  {
   "metadata": {
    "ExecuteTime": {
     "end_time": "2025-04-26T21:41:17.433270Z",
     "start_time": "2025-04-26T21:41:17.427620Z"
    }
   },
   "cell_type": "code",
   "source": "df.fillna(modes, inplace=True)",
   "id": "f46ed5d5b1758266",
   "outputs": [],
   "execution_count": 152
  },
  {
   "metadata": {
    "ExecuteTime": {
     "end_time": "2025-04-26T21:41:17.617842Z",
     "start_time": "2025-04-26T21:41:17.612340Z"
    }
   },
   "cell_type": "code",
   "source": "df.isna().sum()",
   "id": "680313f6d53c5527",
   "outputs": [
    {
     "data": {
      "text/plain": [
       "PassengerId    0\n",
       "Survived       0\n",
       "Pclass         0\n",
       "Name           0\n",
       "Sex            0\n",
       "Age            0\n",
       "SibSp          0\n",
       "Parch          0\n",
       "Ticket         0\n",
       "Fare           0\n",
       "Cabin          0\n",
       "Embarked       0\n",
       "dtype: int64"
      ]
     },
     "execution_count": 153,
     "metadata": {},
     "output_type": "execute_result"
    }
   ],
   "execution_count": 153
  },
  {
   "metadata": {
    "ExecuteTime": {
     "end_time": "2025-04-26T21:41:17.779950Z",
     "start_time": "2025-04-26T21:41:17.764948Z"
    }
   },
   "cell_type": "code",
   "source": "df.describe(include=(np.number))",
   "id": "e5bddeb4e6533249",
   "outputs": [
    {
     "data": {
      "text/plain": [
       "       PassengerId    Survived      Pclass         Age       SibSp  \\\n",
       "count   891.000000  891.000000  891.000000  891.000000  891.000000   \n",
       "mean    446.000000    0.383838    2.308642   28.566970    0.523008   \n",
       "std     257.353842    0.486592    0.836071   13.199572    1.102743   \n",
       "min       1.000000    0.000000    1.000000    0.420000    0.000000   \n",
       "25%     223.500000    0.000000    2.000000   22.000000    0.000000   \n",
       "50%     446.000000    0.000000    3.000000   24.000000    0.000000   \n",
       "75%     668.500000    1.000000    3.000000   35.000000    1.000000   \n",
       "max     891.000000    1.000000    3.000000   80.000000    8.000000   \n",
       "\n",
       "            Parch        Fare  \n",
       "count  891.000000  891.000000  \n",
       "mean     0.381594   32.204208  \n",
       "std      0.806057   49.693429  \n",
       "min      0.000000    0.000000  \n",
       "25%      0.000000    7.910400  \n",
       "50%      0.000000   14.454200  \n",
       "75%      0.000000   31.000000  \n",
       "max      6.000000  512.329200  "
      ],
      "text/html": [
       "<div>\n",
       "<style scoped>\n",
       "    .dataframe tbody tr th:only-of-type {\n",
       "        vertical-align: middle;\n",
       "    }\n",
       "\n",
       "    .dataframe tbody tr th {\n",
       "        vertical-align: top;\n",
       "    }\n",
       "\n",
       "    .dataframe thead th {\n",
       "        text-align: right;\n",
       "    }\n",
       "</style>\n",
       "<table border=\"1\" class=\"dataframe\">\n",
       "  <thead>\n",
       "    <tr style=\"text-align: right;\">\n",
       "      <th></th>\n",
       "      <th>PassengerId</th>\n",
       "      <th>Survived</th>\n",
       "      <th>Pclass</th>\n",
       "      <th>Age</th>\n",
       "      <th>SibSp</th>\n",
       "      <th>Parch</th>\n",
       "      <th>Fare</th>\n",
       "    </tr>\n",
       "  </thead>\n",
       "  <tbody>\n",
       "    <tr>\n",
       "      <th>count</th>\n",
       "      <td>891.000000</td>\n",
       "      <td>891.000000</td>\n",
       "      <td>891.000000</td>\n",
       "      <td>891.000000</td>\n",
       "      <td>891.000000</td>\n",
       "      <td>891.000000</td>\n",
       "      <td>891.000000</td>\n",
       "    </tr>\n",
       "    <tr>\n",
       "      <th>mean</th>\n",
       "      <td>446.000000</td>\n",
       "      <td>0.383838</td>\n",
       "      <td>2.308642</td>\n",
       "      <td>28.566970</td>\n",
       "      <td>0.523008</td>\n",
       "      <td>0.381594</td>\n",
       "      <td>32.204208</td>\n",
       "    </tr>\n",
       "    <tr>\n",
       "      <th>std</th>\n",
       "      <td>257.353842</td>\n",
       "      <td>0.486592</td>\n",
       "      <td>0.836071</td>\n",
       "      <td>13.199572</td>\n",
       "      <td>1.102743</td>\n",
       "      <td>0.806057</td>\n",
       "      <td>49.693429</td>\n",
       "    </tr>\n",
       "    <tr>\n",
       "      <th>min</th>\n",
       "      <td>1.000000</td>\n",
       "      <td>0.000000</td>\n",
       "      <td>1.000000</td>\n",
       "      <td>0.420000</td>\n",
       "      <td>0.000000</td>\n",
       "      <td>0.000000</td>\n",
       "      <td>0.000000</td>\n",
       "    </tr>\n",
       "    <tr>\n",
       "      <th>25%</th>\n",
       "      <td>223.500000</td>\n",
       "      <td>0.000000</td>\n",
       "      <td>2.000000</td>\n",
       "      <td>22.000000</td>\n",
       "      <td>0.000000</td>\n",
       "      <td>0.000000</td>\n",
       "      <td>7.910400</td>\n",
       "    </tr>\n",
       "    <tr>\n",
       "      <th>50%</th>\n",
       "      <td>446.000000</td>\n",
       "      <td>0.000000</td>\n",
       "      <td>3.000000</td>\n",
       "      <td>24.000000</td>\n",
       "      <td>0.000000</td>\n",
       "      <td>0.000000</td>\n",
       "      <td>14.454200</td>\n",
       "    </tr>\n",
       "    <tr>\n",
       "      <th>75%</th>\n",
       "      <td>668.500000</td>\n",
       "      <td>1.000000</td>\n",
       "      <td>3.000000</td>\n",
       "      <td>35.000000</td>\n",
       "      <td>1.000000</td>\n",
       "      <td>0.000000</td>\n",
       "      <td>31.000000</td>\n",
       "    </tr>\n",
       "    <tr>\n",
       "      <th>max</th>\n",
       "      <td>891.000000</td>\n",
       "      <td>1.000000</td>\n",
       "      <td>3.000000</td>\n",
       "      <td>80.000000</td>\n",
       "      <td>8.000000</td>\n",
       "      <td>6.000000</td>\n",
       "      <td>512.329200</td>\n",
       "    </tr>\n",
       "  </tbody>\n",
       "</table>\n",
       "</div>"
      ]
     },
     "execution_count": 154,
     "metadata": {},
     "output_type": "execute_result"
    }
   ],
   "execution_count": 154
  },
  {
   "metadata": {
    "ExecuteTime": {
     "end_time": "2025-04-26T21:41:18.010205Z",
     "start_time": "2025-04-26T21:41:17.886204Z"
    }
   },
   "cell_type": "code",
   "source": "df['Fare'].hist();",
   "id": "f15e0e8d1541f071",
   "outputs": [
    {
     "data": {
      "text/plain": [
       "<Figure size 640x480 with 1 Axes>"
      ],
      "image/png": "[encoded data removed]"
     },
     "metadata": {},
     "output_type": "display_data"
    }
   ],
   "execution_count": 155
  },
  {
   "metadata": {
    "ExecuteTime": {
     "end_time": "2025-04-26T21:41:18.095758Z",
     "start_time": "2025-04-26T21:41:18.091920Z"
    }
   },
   "cell_type": "code",
   "source": "df['LogFare'] = np.log(df['Fare']+1)",
   "id": "e98509864916a2bd",
   "outputs": [],
   "execution_count": 156
  },
  {
   "metadata": {
    "ExecuteTime": {
     "end_time": "2025-04-26T21:41:18.284606Z",
     "start_time": "2025-04-26T21:41:18.156686Z"
    }
   },
   "cell_type": "code",
   "source": "df['LogFare'].hist()",
   "id": "154bf5404045f65e",
   "outputs": [
    {
     "data": {
      "text/plain": [
       "<Axes: >"
      ]
     },
     "execution_count": 157,
     "metadata": {},
     "output_type": "execute_result"
    },
    {
     "data": {
      "text/plain": [
       "<Figure size 640x480 with 1 Axes>"
      ],
      "image/png": "[encoded data removed]"
     },
     "metadata": {},
     "output_type": "display_data"
    }
   ],
   "execution_count": 157
  },
  {
   "metadata": {
    "ExecuteTime": {
     "end_time": "2025-04-26T21:41:18.309587Z",
     "start_time": "2025-04-26T21:41:18.305501Z"
    }
   },
   "cell_type": "code",
   "source": [
    "pclasses = sorted(df.Pclass.unique())\n",
    "pclasses"
   ],
   "id": "fccef1907b66b0af",
   "outputs": [
    {
     "data": {
      "text/plain": [
       "[1, 2, 3]"
      ]
     },
     "execution_count": 158,
     "metadata": {},
     "output_type": "execute_result"
    }
   ],
   "execution_count": 158
  },
  {
   "metadata": {
    "ExecuteTime": {
     "end_time": "2025-04-26T21:41:18.384798Z",
     "start_time": "2025-04-26T21:41:18.371963Z"
    }
   },
   "cell_type": "code",
   "source": "df.describe(include=[object])",
   "id": "e682bc2701ef2b5a",
   "outputs": [
    {
     "data": {
      "text/plain": [
       "                           Name   Sex  Ticket    Cabin Embarked\n",
       "count                       891   891     891      891      891\n",
       "unique                      891     2     681      147        3\n",
       "top     Braund, Mr. Owen Harris  male  347082  B96 B98        S\n",
       "freq                          1   577       7      691      646"
      ],
      "text/html": [
       "<div>\n",
       "<style scoped>\n",
       "    .dataframe tbody tr th:only-of-type {\n",
       "        vertical-align: middle;\n",
       "    }\n",
       "\n",
       "    .dataframe tbody tr th {\n",
       "        vertical-align: top;\n",
       "    }\n",
       "\n",
       "    .dataframe thead th {\n",
       "        text-align: right;\n",
       "    }\n",
       "</style>\n",
       "<table border=\"1\" class=\"dataframe\">\n",
       "  <thead>\n",
       "    <tr style=\"text-align: right;\">\n",
       "      <th></th>\n",
       "      <th>Name</th>\n",
       "      <th>Sex</th>\n",
       "      <th>Ticket</th>\n",
       "      <th>Cabin</th>\n",
       "      <th>Embarked</th>\n",
       "    </tr>\n",
       "  </thead>\n",
       "  <tbody>\n",
       "    <tr>\n",
       "      <th>count</th>\n",
       "      <td>891</td>\n",
       "      <td>891</td>\n",
       "      <td>891</td>\n",
       "      <td>891</td>\n",
       "      <td>891</td>\n",
       "    </tr>\n",
       "    <tr>\n",
       "      <th>unique</th>\n",
       "      <td>891</td>\n",
       "      <td>2</td>\n",
       "      <td>681</td>\n",
       "      <td>147</td>\n",
       "      <td>3</td>\n",
       "    </tr>\n",
       "    <tr>\n",
       "      <th>top</th>\n",
       "      <td>Braund, Mr. Owen Harris</td>\n",
       "      <td>male</td>\n",
       "      <td>347082</td>\n",
       "      <td>B96 B98</td>\n",
       "      <td>S</td>\n",
       "    </tr>\n",
       "    <tr>\n",
       "      <th>freq</th>\n",
       "      <td>1</td>\n",
       "      <td>577</td>\n",
       "      <td>7</td>\n",
       "      <td>691</td>\n",
       "      <td>646</td>\n",
       "    </tr>\n",
       "  </tbody>\n",
       "</table>\n",
       "</div>"
      ]
     },
     "execution_count": 159,
     "metadata": {},
     "output_type": "execute_result"
    }
   ],
   "execution_count": 159
  },
  {
   "metadata": {
    "ExecuteTime": {
     "end_time": "2025-04-26T21:41:18.460397Z",
     "start_time": "2025-04-26T21:41:18.453344Z"
    }
   },
   "cell_type": "code",
   "source": [
    "df = pd.get_dummies(df, columns=[\"Sex\",\"Pclass\",\"Embarked\"])\n",
    "df.columns"
   ],
   "id": "5fe624444cf1c69c",
   "outputs": [
    {
     "data": {
      "text/plain": [
       "Index(['PassengerId', 'Survived', 'Name', 'Age', 'SibSp', 'Parch', 'Ticket',\n",
       "       'Fare', 'Cabin', 'LogFare', 'Sex_female', 'Sex_male', 'Pclass_1',\n",
       "       'Pclass_2', 'Pclass_3', 'Embarked_C', 'Embarked_Q', 'Embarked_S'],\n",
       "      dtype='object')"
      ]
     },
     "execution_count": 160,
     "metadata": {},
     "output_type": "execute_result"
    }
   ],
   "execution_count": 160
  },
  {
   "metadata": {
    "ExecuteTime": {
     "end_time": "2025-04-26T21:41:18.526209Z",
     "start_time": "2025-04-26T21:41:18.518233Z"
    }
   },
   "cell_type": "code",
   "source": [
    "added_cols = ['Sex_male', 'Sex_female', 'Pclass_1', 'Pclass_2', 'Pclass_3', 'Embarked_C', 'Embarked_Q', 'Embarked_S']\n",
    "df[added_cols].head()"
   ],
   "id": "8a51d253bbf85ccf",
   "outputs": [
    {
     "data": {
      "text/plain": [
       "   Sex_male  Sex_female  Pclass_1  Pclass_2  Pclass_3  Embarked_C  Embarked_Q  \\\n",
       "0      True       False     False     False      True       False       False   \n",
       "1     False        True      True     False     False        True       False   \n",
       "2     False        True     False     False      True       False       False   \n",
       "3     False        True      True     False     False       False       False   \n",
       "4      True       False     False     False      True       False       False   \n",
       "\n",
       "   Embarked_S  \n",
       "0        True  \n",
       "1       False  \n",
       "2        True  \n",
       "3        True  \n",
       "4        True  "
      ],
      "text/html": [
       "<div>\n",
       "<style scoped>\n",
       "    .dataframe tbody tr th:only-of-type {\n",
       "        vertical-align: middle;\n",
       "    }\n",
       "\n",
       "    .dataframe tbody tr th {\n",
       "        vertical-align: top;\n",
       "    }\n",
       "\n",
       "    .dataframe thead th {\n",
       "        text-align: right;\n",
       "    }\n",
       "</style>\n",
       "<table border=\"1\" class=\"dataframe\">\n",
       "  <thead>\n",
       "    <tr style=\"text-align: right;\">\n",
       "      <th></th>\n",
       "      <th>Sex_male</th>\n",
       "      <th>Sex_female</th>\n",
       "      <th>Pclass_1</th>\n",
       "      <th>Pclass_2</th>\n",
       "      <th>Pclass_3</th>\n",
       "      <th>Embarked_C</th>\n",
       "      <th>Embarked_Q</th>\n",
       "      <th>Embarked_S</th>\n",
       "    </tr>\n",
       "  </thead>\n",
       "  <tbody>\n",
       "    <tr>\n",
       "      <th>0</th>\n",
       "      <td>True</td>\n",
       "      <td>False</td>\n",
       "      <td>False</td>\n",
       "      <td>False</td>\n",
       "      <td>True</td>\n",
       "      <td>False</td>\n",
       "      <td>False</td>\n",
       "      <td>True</td>\n",
       "    </tr>\n",
       "    <tr>\n",
       "      <th>1</th>\n",
       "      <td>False</td>\n",
       "      <td>True</td>\n",
       "      <td>True</td>\n",
       "      <td>False</td>\n",
       "      <td>False</td>\n",
       "      <td>True</td>\n",
       "      <td>False</td>\n",
       "      <td>False</td>\n",
       "    </tr>\n",
       "    <tr>\n",
       "      <th>2</th>\n",
       "      <td>False</td>\n",
       "      <td>True</td>\n",
       "      <td>False</td>\n",
       "      <td>False</td>\n",
       "      <td>True</td>\n",
       "      <td>False</td>\n",
       "      <td>False</td>\n",
       "      <td>True</td>\n",
       "    </tr>\n",
       "    <tr>\n",
       "      <th>3</th>\n",
       "      <td>False</td>\n",
       "      <td>True</td>\n",
       "      <td>True</td>\n",
       "      <td>False</td>\n",
       "      <td>False</td>\n",
       "      <td>False</td>\n",
       "      <td>False</td>\n",
       "      <td>True</td>\n",
       "    </tr>\n",
       "    <tr>\n",
       "      <th>4</th>\n",
       "      <td>True</td>\n",
       "      <td>False</td>\n",
       "      <td>False</td>\n",
       "      <td>False</td>\n",
       "      <td>True</td>\n",
       "      <td>False</td>\n",
       "      <td>False</td>\n",
       "      <td>True</td>\n",
       "    </tr>\n",
       "  </tbody>\n",
       "</table>\n",
       "</div>"
      ]
     },
     "execution_count": 161,
     "metadata": {},
     "output_type": "execute_result"
    }
   ],
   "execution_count": 161
  },
  {
   "metadata": {
    "ExecuteTime": {
     "end_time": "2025-04-26T21:41:18.627067Z",
     "start_time": "2025-04-26T21:41:18.622553Z"
    }
   },
   "cell_type": "code",
   "source": [
    "from torch import tensor\n",
    "\n",
    "t_dep = tensor(df.Survived)"
   ],
   "id": "3bb1755ca1f4f555",
   "outputs": [],
   "execution_count": 162
  },
  {
   "metadata": {
    "ExecuteTime": {
     "end_time": "2025-04-26T21:41:18.712845Z",
     "start_time": "2025-04-26T21:41:18.704198Z"
    }
   },
   "cell_type": "code",
   "source": [
    "indep_cols = ['Age', 'SibSp', 'Parch', 'LogFare'] + added_cols\n",
    "\n",
    "# Before tensor conversion, ensure all columns are float32\n",
    "df[indep_cols] = df[indep_cols].astype(np.float32)\n",
    "\n",
    "t_indep = tensor(df[indep_cols].values, dtype=torch.float32)\n",
    "t_indep"
   ],
   "id": "5ad2f5fbdd44f155",
   "outputs": [
    {
     "data": {
      "text/plain": [
       "tensor([[22.,  1.,  0.,  ...,  0.,  0.,  1.],\n",
       "        [38.,  1.,  0.,  ...,  1.,  0.,  0.],\n",
       "        [26.,  0.,  0.,  ...,  0.,  0.,  1.],\n",
       "        ...,\n",
       "        [24.,  1.,  2.,  ...,  0.,  0.,  1.],\n",
       "        [26.,  0.,  0.,  ...,  1.,  0.,  0.],\n",
       "        [32.,  0.,  0.,  ...,  0.,  1.,  0.]])"
      ]
     },
     "execution_count": 163,
     "metadata": {},
     "output_type": "execute_result"
    }
   ],
   "execution_count": 163
  },
  {
   "metadata": {
    "ExecuteTime": {
     "end_time": "2025-04-26T21:41:18.780941Z",
     "start_time": "2025-04-26T21:41:18.777536Z"
    }
   },
   "cell_type": "code",
   "source": "t_indep.shape",
   "id": "c302fc3368960ef5",
   "outputs": [
    {
     "data": {
      "text/plain": [
       "torch.Size([891, 12])"
      ]
     },
     "execution_count": 164,
     "metadata": {},
     "output_type": "execute_result"
    }
   ],
   "execution_count": 164
  },
  {
   "metadata": {},
   "cell_type": "markdown",
   "source": "# linear model",
   "id": "bca0cf2f87a0f694"
  },
  {
   "metadata": {
    "ExecuteTime": {
     "end_time": "2025-04-26T21:41:18.851565Z",
     "start_time": "2025-04-26T21:41:18.844987Z"
    }
   },
   "cell_type": "code",
   "source": [
    "torch.manual_seed(442)\n",
    "\n",
    "n_coeff = t_indep.shape[1]\n",
    "coeffs = torch.rand(n_coeff)-0.5\n",
    "coeffs"
   ],
   "id": "d4ac33c29318790c",
   "outputs": [
    {
     "data": {
      "text/plain": [
       "tensor([-0.4629,  0.1386,  0.2409, -0.2262, -0.2632, -0.3147,  0.4876,  0.3136,\n",
       "         0.2799, -0.4392,  0.2103,  0.3625])"
      ]
     },
     "execution_count": 165,
     "metadata": {},
     "output_type": "execute_result"
    }
   ],
   "execution_count": 165
  },
  {
   "metadata": {
    "ExecuteTime": {
     "end_time": "2025-04-26T21:41:18.985826Z",
     "start_time": "2025-04-26T21:41:18.981141Z"
    }
   },
   "cell_type": "code",
   "source": "t_indep*coeffs",
   "id": "e8a8437ee236ead3",
   "outputs": [
    {
     "data": {
      "text/plain": [
       "tensor([[-10.1838,   0.1386,   0.0000,  ...,  -0.0000,   0.0000,   0.3625],\n",
       "        [-17.5902,   0.1386,   0.0000,  ...,  -0.4392,   0.0000,   0.0000],\n",
       "        [-12.0354,   0.0000,   0.0000,  ...,  -0.0000,   0.0000,   0.3625],\n",
       "        ...,\n",
       "        [-11.1096,   0.1386,   0.4818,  ...,  -0.0000,   0.0000,   0.3625],\n",
       "        [-12.0354,   0.0000,   0.0000,  ...,  -0.4392,   0.0000,   0.0000],\n",
       "        [-14.8128,   0.0000,   0.0000,  ...,  -0.0000,   0.2103,   0.0000]])"
      ]
     },
     "execution_count": 166,
     "metadata": {},
     "output_type": "execute_result"
    }
   ],
   "execution_count": 166
  },
  {
   "metadata": {
    "ExecuteTime": {
     "end_time": "2025-04-26T21:41:19.113176Z",
     "start_time": "2025-04-26T21:41:19.092077Z"
    }
   },
   "cell_type": "code",
   "source": [
    "vals, indices = t_indep.max(dim=0)\n",
    "t_indep = t_indep/vals"
   ],
   "id": "10480f50d946780e",
   "outputs": [],
   "execution_count": 167
  },
  {
   "metadata": {
    "ExecuteTime": {
     "end_time": "2025-04-26T21:41:19.161138Z",
     "start_time": "2025-04-26T21:41:19.157205Z"
    }
   },
   "cell_type": "code",
   "source": "t_indep*coeffs",
   "id": "2a847510e320738b",
   "outputs": [
    {
     "data": {
      "text/plain": [
       "tensor([[-0.1273,  0.0173,  0.0000,  ..., -0.0000,  0.0000,  0.3625],\n",
       "        [-0.2199,  0.0173,  0.0000,  ..., -0.4392,  0.0000,  0.0000],\n",
       "        [-0.1504,  0.0000,  0.0000,  ..., -0.0000,  0.0000,  0.3625],\n",
       "        ...,\n",
       "        [-0.1389,  0.0173,  0.0803,  ..., -0.0000,  0.0000,  0.3625],\n",
       "        [-0.1504,  0.0000,  0.0000,  ..., -0.4392,  0.0000,  0.0000],\n",
       "        [-0.1852,  0.0000,  0.0000,  ..., -0.0000,  0.2103,  0.0000]])"
      ]
     },
     "execution_count": 168,
     "metadata": {},
     "output_type": "execute_result"
    }
   ],
   "execution_count": 168
  },
  {
   "metadata": {
    "ExecuteTime": {
     "end_time": "2025-04-26T21:41:19.395327Z",
     "start_time": "2025-04-26T21:41:19.392442Z"
    }
   },
   "cell_type": "code",
   "source": "preds = (t_indep*coeffs).sum(axis=1)",
   "id": "e1df6f0c2120e8a5",
   "outputs": [],
   "execution_count": 169
  },
  {
   "metadata": {
    "ExecuteTime": {
     "end_time": "2025-04-26T21:41:19.630383Z",
     "start_time": "2025-04-26T21:41:19.625897Z"
    }
   },
   "cell_type": "code",
   "source": "preds[:10]",
   "id": "de57aba4f2ec2006",
   "outputs": [
    {
     "data": {
      "text/plain": [
       "tensor([ 0.1927, -0.6239,  0.0979,  0.2056,  0.0968,  0.0066,  0.1306,  0.3476,\n",
       "         0.1613, -0.6285])"
      ]
     },
     "execution_count": 170,
     "metadata": {},
     "output_type": "execute_result"
    }
   ],
   "execution_count": 170
  },
  {
   "metadata": {
    "ExecuteTime": {
     "end_time": "2025-04-26T21:41:19.727869Z",
     "start_time": "2025-04-26T21:41:19.723974Z"
    }
   },
   "cell_type": "code",
   "source": [
    "loss = torch.abs(preds-t_dep).mean()\n",
    "loss"
   ],
   "id": "12c1696608a93409",
   "outputs": [
    {
     "data": {
      "text/plain": [
       "tensor(0.5382)"
      ]
     },
     "execution_count": 171,
     "metadata": {},
     "output_type": "execute_result"
    }
   ],
   "execution_count": 171
  },
  {
   "metadata": {
    "ExecuteTime": {
     "end_time": "2025-04-26T21:41:19.828887Z",
     "start_time": "2025-04-26T21:41:19.825382Z"
    }
   },
   "cell_type": "code",
   "source": [
    "def calc_preds(coeffs, indeps): return (indeps*coeffs).sum(axis=1)\n",
    "def calc_loss(coeffs, indeps, deps): return torch.abs(calc_preds(coeffs, indeps)-deps).mean()"
   ],
   "id": "4f0bfbdac6fd07c3",
   "outputs": [],
   "execution_count": 172
  },
  {
   "metadata": {
    "ExecuteTime": {
     "end_time": "2025-04-26T21:41:19.854399Z",
     "start_time": "2025-04-26T21:41:19.849792Z"
    }
   },
   "cell_type": "code",
   "source": "coeffs.requires_grad_()",
   "id": "fff08752224afa6d",
   "outputs": [
    {
     "data": {
      "text/plain": [
       "tensor([-0.4629,  0.1386,  0.2409, -0.2262, -0.2632, -0.3147,  0.4876,  0.3136,\n",
       "         0.2799, -0.4392,  0.2103,  0.3625], requires_grad=True)"
      ]
     },
     "execution_count": 173,
     "metadata": {},
     "output_type": "execute_result"
    }
   ],
   "execution_count": 173
  },
  {
   "metadata": {
    "ExecuteTime": {
     "end_time": "2025-04-26T21:41:19.916715Z",
     "start_time": "2025-04-26T21:41:19.911630Z"
    }
   },
   "cell_type": "code",
   "source": [
    "loss = calc_loss(coeffs, t_indep, t_dep)\n",
    "loss"
   ],
   "id": "a989df9eaca52298",
   "outputs": [
    {
     "data": {
      "text/plain": [
       "tensor(0.5382, grad_fn=<MeanBackward0>)"
      ]
     },
     "execution_count": 174,
     "metadata": {},
     "output_type": "execute_result"
    }
   ],
   "execution_count": 174
  },
  {
   "metadata": {
    "ExecuteTime": {
     "end_time": "2025-04-26T21:41:19.968629Z",
     "start_time": "2025-04-26T21:41:19.965688Z"
    }
   },
   "cell_type": "code",
   "source": "loss.backward()",
   "id": "1a42353c0c5e5a9f",
   "outputs": [],
   "execution_count": 175
  },
  {
   "metadata": {
    "ExecuteTime": {
     "end_time": "2025-04-26T21:41:20.024075Z",
     "start_time": "2025-04-26T21:41:20.019592Z"
    }
   },
   "cell_type": "code",
   "source": "coeffs.grad",
   "id": "4ed88401a1495ee3",
   "outputs": [
    {
     "data": {
      "text/plain": [
       "tensor([-0.0106,  0.0129, -0.0041, -0.0484,  0.2099, -0.2132, -0.1212, -0.0247,\n",
       "         0.1425, -0.1886, -0.0191,  0.2043])"
      ]
     },
     "execution_count": 176,
     "metadata": {},
     "output_type": "execute_result"
    }
   ],
   "execution_count": 176
  },
  {
   "metadata": {
    "ExecuteTime": {
     "end_time": "2025-04-26T21:41:20.088762Z",
     "start_time": "2025-04-26T21:41:20.084671Z"
    }
   },
   "cell_type": "code",
   "source": [
    "with torch.no_grad():\n",
    "    coeffs.sub_(coeffs.grad * 0.1)\n",
    "    print(calc_loss(coeffs, t_indep, t_dep))"
   ],
   "id": "331483e9f1d9e5e1",
   "outputs": [
    {
     "name": "stdout",
     "output_type": "stream",
     "text": [
      "tensor(0.5197)\n"
     ]
    }
   ],
   "execution_count": 177
  },
  {
   "metadata": {},
   "cell_type": "markdown",
   "source": "# training the model",
   "id": "3221d67d4ad3060b"
  },
  {
   "metadata": {
    "ExecuteTime": {
     "end_time": "2025-04-26T21:41:20.142329Z",
     "start_time": "2025-04-26T21:41:20.138478Z"
    }
   },
   "cell_type": "code",
   "source": [
    "from fastai.data.transforms import RandomSplitter\n",
    "trn_split, val_split = RandomSplitter(seed=42)(df)"
   ],
   "id": "2e0fffe2d9573014",
   "outputs": [],
   "execution_count": 178
  },
  {
   "metadata": {
    "ExecuteTime": {
     "end_time": "2025-04-26T21:41:20.215990Z",
     "start_time": "2025-04-26T21:41:20.192617Z"
    }
   },
   "cell_type": "code",
   "source": [
    "trn_indep,val_indep = t_indep[trn_split],t_indep[val_split]\n",
    "trn_dep,val_dep = t_dep[trn_split],t_dep[val_split]\n",
    "len(trn_indep),len(val_indep)"
   ],
   "id": "b022987e4d660f35",
   "outputs": [
    {
     "data": {
      "text/plain": [
       "(713, 178)"
      ]
     },
     "execution_count": 179,
     "metadata": {},
     "output_type": "execute_result"
    }
   ],
   "execution_count": 179
  },
  {
   "metadata": {
    "ExecuteTime": {
     "end_time": "2025-04-26T21:41:20.249513Z",
     "start_time": "2025-04-26T21:41:20.246979Z"
    }
   },
   "cell_type": "code",
   "source": [
    "def update_coeffs(coeffs, lr):\n",
    "    coeffs.sub_(coeffs.grad * lr)\n",
    "    coeffs.grad.zero_()"
   ],
   "id": "19b83c7a8027265b",
   "outputs": [],
   "execution_count": 180
  },
  {
   "metadata": {
    "ExecuteTime": {
     "end_time": "2025-04-26T21:41:20.295090Z",
     "start_time": "2025-04-26T21:41:20.292039Z"
    }
   },
   "cell_type": "code",
   "source": [
    "def one_epoch(coeffs, lr):\n",
    "    loss = calc_loss(coeffs, trn_indep, trn_dep)\n",
    "    loss.backward()\n",
    "    with torch.no_grad(): update_coeffs(coeffs, lr)\n",
    "    print(f\"{loss:.3f}\", end=\"; \")"
   ],
   "id": "3548036711d5a26",
   "outputs": [],
   "execution_count": 181
  },
  {
   "metadata": {
    "ExecuteTime": {
     "end_time": "2025-04-26T21:41:20.340326Z",
     "start_time": "2025-04-26T21:41:20.337794Z"
    }
   },
   "cell_type": "code",
   "source": "def init_coeffs(): return (torch.rand(n_coeff)-0.5).requires_grad_()",
   "id": "6b5954bf1171e70f",
   "outputs": [],
   "execution_count": 182
  },
  {
   "metadata": {
    "ExecuteTime": {
     "end_time": "2025-04-26T21:41:20.385188Z",
     "start_time": "2025-04-26T21:41:20.382693Z"
    }
   },
   "cell_type": "code",
   "source": [
    "def train_model(epochs=30, lr=0.01):\n",
    "    torch.manual_seed(442)\n",
    "    coeffs = init_coeffs()\n",
    "    for i in range(epochs): one_epoch(coeffs, lr=lr)\n",
    "    return coeffs"
   ],
   "id": "79bdada071892eb3",
   "outputs": [],
   "execution_count": 183
  },
  {
   "metadata": {
    "ExecuteTime": {
     "end_time": "2025-04-26T21:41:20.445637Z",
     "start_time": "2025-04-26T21:41:20.437669Z"
    }
   },
   "cell_type": "code",
   "source": "coeffs = train_model(18, lr=0.2)",
   "id": "53a5202af8fadd79",
   "outputs": [
    {
     "name": "stdout",
     "output_type": "stream",
     "text": [
      "0.536; 0.502; 0.477; 0.454; 0.431; 0.409; 0.388; 0.367; 0.349; 0.336; 0.330; 0.326; 0.329; 0.304; 0.314; 0.296; 0.300; 0.289; "
     ]
    }
   ],
   "execution_count": 184
  },
  {
   "metadata": {
    "ExecuteTime": {
     "end_time": "2025-04-26T21:41:20.510431Z",
     "start_time": "2025-04-26T21:41:20.503281Z"
    }
   },
   "cell_type": "code",
   "source": [
    "def show_coeffs(): return dict(zip(indep_cols, coeffs.requires_grad_(False)))\n",
    "show_coeffs()"
   ],
   "id": "4736b11fd86cadbb",
   "outputs": [
    {
     "data": {
      "text/plain": [
       "{'Age': tensor(-0.2694),\n",
       " 'SibSp': tensor(0.0901),\n",
       " 'Parch': tensor(0.2359),\n",
       " 'LogFare': tensor(0.0280),\n",
       " 'Sex_male': tensor(-0.3990),\n",
       " 'Sex_female': tensor(0.2345),\n",
       " 'Pclass_1': tensor(0.7232),\n",
       " 'Pclass_2': tensor(0.4112),\n",
       " 'Pclass_3': tensor(0.3601),\n",
       " 'Embarked_C': tensor(0.0955),\n",
       " 'Embarked_Q': tensor(0.2395),\n",
       " 'Embarked_S': tensor(0.2122)}"
      ]
     },
     "execution_count": 185,
     "metadata": {},
     "output_type": "execute_result"
    }
   ],
   "execution_count": 185
  },
  {
   "metadata": {},
   "cell_type": "markdown",
   "source": "# Measuring accuracy",
   "id": "2f48f4dfde76a1fb"
  },
  {
   "metadata": {
    "ExecuteTime": {
     "end_time": "2025-04-26T21:41:20.560873Z",
     "start_time": "2025-04-26T21:41:20.557586Z"
    }
   },
   "cell_type": "code",
   "source": "preds = calc_preds(coeffs, val_indep)",
   "id": "b4b0302915d45659",
   "outputs": [],
   "execution_count": 186
  },
  {
   "metadata": {
    "ExecuteTime": {
     "end_time": "2025-04-26T21:41:20.620470Z",
     "start_time": "2025-04-26T21:41:20.615727Z"
    }
   },
   "cell_type": "code",
   "source": [
    "results = val_dep.bool()==(preds>0.5)\n",
    "results[:16]"
   ],
   "id": "ffa61d223d249b4b",
   "outputs": [
    {
     "data": {
      "text/plain": [
       "tensor([ True,  True,  True,  True,  True,  True,  True,  True,  True,  True,\n",
       "        False, False, False,  True,  True, False])"
      ]
     },
     "execution_count": 187,
     "metadata": {},
     "output_type": "execute_result"
    }
   ],
   "execution_count": 187
  },
  {
   "metadata": {
    "ExecuteTime": {
     "end_time": "2025-04-26T21:41:20.683398Z",
     "start_time": "2025-04-26T21:41:20.678433Z"
    }
   },
   "cell_type": "code",
   "source": "results.float().mean()",
   "id": "adcda37e616e8db9",
   "outputs": [
    {
     "data": {
      "text/plain": [
       "tensor(0.7865)"
      ]
     },
     "execution_count": 188,
     "metadata": {},
     "output_type": "execute_result"
    }
   ],
   "execution_count": 188
  },
  {
   "metadata": {
    "ExecuteTime": {
     "end_time": "2025-04-26T21:41:20.755555Z",
     "start_time": "2025-04-26T21:41:20.750300Z"
    }
   },
   "cell_type": "code",
   "source": [
    "def acc(coeffs): return (val_dep.bool()==(calc_preds(coeffs, val_indep)>0.5)).float().mean()\n",
    "acc(coeffs)"
   ],
   "id": "ba8193ce92ecdc07",
   "outputs": [
    {
     "data": {
      "text/plain": [
       "tensor(0.7865)"
      ]
     },
     "execution_count": 189,
     "metadata": {},
     "output_type": "execute_result"
    }
   ],
   "execution_count": 189
  },
  {
   "metadata": {},
   "cell_type": "markdown",
   "source": "# using sigmoid",
   "id": "edc6ffaa40c2d69d"
  },
  {
   "metadata": {
    "ExecuteTime": {
     "end_time": "2025-04-26T21:41:20.815731Z",
     "start_time": "2025-04-26T21:41:20.811123Z"
    }
   },
   "cell_type": "code",
   "source": "preds[:28]",
   "id": "ad902f5e3cf107df",
   "outputs": [
    {
     "data": {
      "text/plain": [
       "tensor([ 0.8160,  0.1295, -0.0148,  0.1831,  0.1520,  0.1350,  0.7279,  0.7754,\n",
       "         0.3222,  0.6740,  0.0753,  0.0389,  0.2216,  0.7631,  0.0678,  0.3997,\n",
       "         0.3324,  0.8278,  0.1078,  0.7126,  0.1023,  0.3627,  0.9937,  0.8050,\n",
       "         0.1153,  0.1455,  0.8652,  0.3425])"
      ]
     },
     "execution_count": 190,
     "metadata": {},
     "output_type": "execute_result"
    }
   ],
   "execution_count": 190
  },
  {
   "metadata": {
    "ExecuteTime": {
     "end_time": "2025-04-26T21:41:20.992824Z",
     "start_time": "2025-04-26T21:41:20.866853Z"
    }
   },
   "cell_type": "code",
   "source": [
    "import sympy as sp\n",
    "\n",
    "x = sp.symbols('x')\n",
    "expr = 1/(1 + sp.exp(-x))\n",
    "sp.plot(expr, (x, -10, 10))\n"
   ],
   "id": "7b60eed1087a0fd1",
   "outputs": [
    {
     "data": {
      "text/plain": [
       "<Figure size 640x480 with 1 Axes>"
      ],
      "image/png": "[encoded data removed]"
     },
     "metadata": {},
     "output_type": "display_data"
    },
    {
     "data": {
      "text/plain": [
       "<sympy.plotting.backends.matplotlibbackend.matplotlib.MatplotlibBackend at 0x7af5154d4880>"
      ]
     },
     "execution_count": 191,
     "metadata": {},
     "output_type": "execute_result"
    }
   ],
   "execution_count": 191
  },
  {
   "metadata": {
    "ExecuteTime": {
     "end_time": "2025-04-26T21:41:21.025897Z",
     "start_time": "2025-04-26T21:41:21.022781Z"
    }
   },
   "cell_type": "code",
   "source": "def calc_preds(coeffs, indeps): return torch.sigmoid((indeps*coeffs).sum(axis=1))",
   "id": "3ac37a91c71525af",
   "outputs": [],
   "execution_count": 192
  },
  {
   "metadata": {
    "ExecuteTime": {
     "end_time": "2025-04-26T21:41:21.080023Z",
     "start_time": "2025-04-26T21:41:21.070788Z"
    }
   },
   "cell_type": "code",
   "source": "coeffs = train_model(lr=100)",
   "id": "28c37199530c8f6f",
   "outputs": [
    {
     "name": "stdout",
     "output_type": "stream",
     "text": [
      "0.510; 0.327; 0.294; 0.207; 0.201; 0.199; 0.198; 0.197; 0.196; 0.196; 0.196; 0.195; 0.195; 0.195; 0.195; 0.195; 0.195; 0.195; 0.194; 0.194; 0.194; 0.194; 0.194; 0.194; 0.194; 0.194; 0.194; 0.194; 0.194; 0.194; "
     ]
    }
   ],
   "execution_count": 193
  },
  {
   "metadata": {
    "ExecuteTime": {
     "end_time": "2025-04-26T21:41:21.131489Z",
     "start_time": "2025-04-26T21:41:21.126695Z"
    }
   },
   "cell_type": "code",
   "source": "acc(coeffs)",
   "id": "971489878e692df6",
   "outputs": [
    {
     "data": {
      "text/plain": [
       "tensor(0.8258)"
      ]
     },
     "execution_count": 194,
     "metadata": {},
     "output_type": "execute_result"
    }
   ],
   "execution_count": 194
  },
  {
   "metadata": {
    "ExecuteTime": {
     "end_time": "2025-04-26T21:41:21.249379Z",
     "start_time": "2025-04-26T21:41:21.242662Z"
    }
   },
   "cell_type": "code",
   "source": "show_coeffs()",
   "id": "942e435048417545",
   "outputs": [
    {
     "data": {
      "text/plain": [
       "{'Age': tensor(-1.5061),\n",
       " 'SibSp': tensor(-1.1575),\n",
       " 'Parch': tensor(-0.4267),\n",
       " 'LogFare': tensor(0.2543),\n",
       " 'Sex_male': tensor(-10.3320),\n",
       " 'Sex_female': tensor(8.4185),\n",
       " 'Pclass_1': tensor(3.8389),\n",
       " 'Pclass_2': tensor(2.1398),\n",
       " 'Pclass_3': tensor(-6.2331),\n",
       " 'Embarked_C': tensor(1.4771),\n",
       " 'Embarked_Q': tensor(2.1168),\n",
       " 'Embarked_S': tensor(-4.7958)}"
      ]
     },
     "execution_count": 195,
     "metadata": {},
     "output_type": "execute_result"
    }
   ],
   "execution_count": 195
  },
  {
   "metadata": {},
   "cell_type": "markdown",
   "source": "# Using matrix product",
   "id": "b65a09f721583a34"
  },
  {
   "metadata": {
    "ExecuteTime": {
     "end_time": "2025-04-26T21:41:21.359553Z",
     "start_time": "2025-04-26T21:41:21.353784Z"
    }
   },
   "cell_type": "code",
   "source": "(val_indep*coeffs).sum(axis=1)",
   "id": "a0be942ff486ad30",
   "outputs": [
    {
     "data": {
      "text/plain": [
       "tensor([ 12.3288, -14.8119, -15.4540, -13.1513, -13.3512, -13.6469,   3.6248,\n",
       "          5.3429, -22.0878,   3.1233, -21.8742, -15.6421, -21.5504,   3.9393,\n",
       "        -21.9190, -12.0010, -12.3775,   5.3550, -13.5880,  -3.1015, -21.7237,\n",
       "        -12.2081,  12.9767,   4.7427, -21.6525, -14.9135,  -2.7433, -12.3210,\n",
       "        -21.5886,   3.9387,   5.3890,  -3.6196, -21.6296, -21.8454,  12.2159,\n",
       "         -3.2275, -12.0289,  13.4560, -21.7230,  -3.1366, -13.2462, -21.7230,\n",
       "        -13.6831,  13.3092, -21.6477,  -3.5868, -21.6854, -21.8316, -14.8158,\n",
       "         -2.9386,  -5.3103, -22.2384, -22.1097, -21.7466, -13.3780, -13.4909,\n",
       "        -14.8119, -22.0690, -21.6666, -21.7818,  -5.4439, -21.7407, -12.6551,\n",
       "        -21.6671,   4.9238, -11.5777, -13.3323, -21.9638, -15.3030,   5.0243,\n",
       "        -21.7614,   3.1820, -13.4721, -21.7170, -11.6066, -21.5737, -21.7230,\n",
       "        -11.9652, -13.2382, -13.7599, -13.2170,  13.1347, -21.7049, -21.7268,\n",
       "          4.9207,  -7.3198,  -5.3081,   7.1065,  11.4948, -13.3135, -21.8723,\n",
       "        -21.7230,  13.3603, -15.5670,   3.4105,  -7.2857, -13.7197,   3.6909,\n",
       "          3.9763, -14.7227, -21.8268,   3.9387, -21.8743, -21.8367, -11.8518,\n",
       "        -13.6712, -21.8299,   4.9440,  -5.4471, -21.9666,   5.1333,  -3.2187,\n",
       "        -11.6008,  13.7920, -21.7230,  12.6369,  -3.7268, -14.8119, -22.0637,\n",
       "         12.9468, -22.1610,  -6.1827, -14.8119,  -3.2838, -15.4540, -11.6950,\n",
       "         -2.9926,  -3.0110, -21.5664, -13.8268,   7.3426, -21.8418,   5.0744,\n",
       "          5.2582,  13.3415, -21.6289, -13.9898, -21.8112,  -7.3316,   5.2296,\n",
       "        -13.4453,  12.7891, -22.1235, -14.9625,  -3.4339,   6.3089, -21.9839,\n",
       "          3.1968,   7.2400,   2.8558,  -3.1187,   3.7965,   5.4667, -15.1101,\n",
       "        -15.0597, -22.9391, -21.7230,  -3.0346, -13.5206, -21.7011,  13.4425,\n",
       "         -7.2690, -21.8335, -12.0582,  13.0489,   6.7993,   5.2160,   5.0794,\n",
       "        -12.6957, -12.1838,  -3.0873, -21.6070,   7.0744, -21.7170, -22.1001,\n",
       "          6.8159, -11.6002, -21.6310])"
      ]
     },
     "execution_count": 196,
     "metadata": {},
     "output_type": "execute_result"
    }
   ],
   "execution_count": 196
  },
  {
   "metadata": {
    "ExecuteTime": {
     "end_time": "2025-04-26T21:41:21.479469Z",
     "start_time": "2025-04-26T21:41:21.474050Z"
    }
   },
   "cell_type": "code",
   "source": "val_indep@coeffs",
   "id": "fd72f077643ed81e",
   "outputs": [
    {
     "data": {
      "text/plain": [
       "tensor([ 12.3288, -14.8119, -15.4540, -13.1513, -13.3511, -13.6468,   3.6248,\n",
       "          5.3429, -22.0878,   3.1233, -21.8742, -15.6421, -21.5504,   3.9393,\n",
       "        -21.9190, -12.0010, -12.3775,   5.3550, -13.5880,  -3.1015, -21.7237,\n",
       "        -12.2081,  12.9767,   4.7427, -21.6525, -14.9135,  -2.7433, -12.3210,\n",
       "        -21.5886,   3.9387,   5.3890,  -3.6196, -21.6296, -21.8454,  12.2159,\n",
       "         -3.2275, -12.0289,  13.4560, -21.7230,  -3.1366, -13.2462, -21.7230,\n",
       "        -13.6831,  13.3092, -21.6477,  -3.5868, -21.6854, -21.8316, -14.8158,\n",
       "         -2.9386,  -5.3103, -22.2384, -22.1097, -21.7466, -13.3780, -13.4909,\n",
       "        -14.8119, -22.0690, -21.6666, -21.7818,  -5.4439, -21.7407, -12.6551,\n",
       "        -21.6671,   4.9238, -11.5777, -13.3323, -21.9638, -15.3030,   5.0243,\n",
       "        -21.7614,   3.1820, -13.4721, -21.7170, -11.6066, -21.5737, -21.7230,\n",
       "        -11.9652, -13.2382, -13.7599, -13.2170,  13.1347, -21.7049, -21.7268,\n",
       "          4.9207,  -7.3198,  -5.3081,   7.1065,  11.4948, -13.3135, -21.8723,\n",
       "        -21.7230,  13.3603, -15.5670,   3.4105,  -7.2857, -13.7197,   3.6909,\n",
       "          3.9763, -14.7227, -21.8268,   3.9387, -21.8743, -21.8367, -11.8518,\n",
       "        -13.6712, -21.8299,   4.9440,  -5.4471, -21.9666,   5.1333,  -3.2187,\n",
       "        -11.6008,  13.7920, -21.7230,  12.6369,  -3.7268, -14.8119, -22.0637,\n",
       "         12.9468, -22.1610,  -6.1827, -14.8119,  -3.2838, -15.4540, -11.6950,\n",
       "         -2.9926,  -3.0110, -21.5664, -13.8268,   7.3426, -21.8418,   5.0744,\n",
       "          5.2582,  13.3415, -21.6289, -13.9898, -21.8112,  -7.3316,   5.2296,\n",
       "        -13.4453,  12.7891, -22.1235, -14.9625,  -3.4339,   6.3089, -21.9839,\n",
       "          3.1968,   7.2400,   2.8558,  -3.1187,   3.7965,   5.4667, -15.1101,\n",
       "        -15.0597, -22.9391, -21.7230,  -3.0346, -13.5206, -21.7011,  13.4425,\n",
       "         -7.2690, -21.8335, -12.0582,  13.0489,   6.7993,   5.2160,   5.0794,\n",
       "        -12.6957, -12.1838,  -3.0873, -21.6070,   7.0745, -21.7170, -22.1001,\n",
       "          6.8159, -11.6002, -21.6310])"
      ]
     },
     "execution_count": 197,
     "metadata": {},
     "output_type": "execute_result"
    }
   ],
   "execution_count": 197
  },
  {
   "metadata": {
    "ExecuteTime": {
     "end_time": "2025-04-26T21:41:21.539906Z",
     "start_time": "2025-04-26T21:41:21.536168Z"
    }
   },
   "cell_type": "code",
   "source": [
    "def calc_preds(coeffs, indeps): return torch.sigmoid(indeps@coeffs)\n",
    "     \n",
    "def init_coeffs(): return (torch.rand(n_coeff, 1)*0.1).requires_grad_()"
   ],
   "id": "cc47e59a7960cfc",
   "outputs": [],
   "execution_count": 198
  },
  {
   "metadata": {
    "ExecuteTime": {
     "end_time": "2025-04-26T21:41:21.587053Z",
     "start_time": "2025-04-26T21:41:21.584185Z"
    }
   },
   "cell_type": "code",
   "source": [
    "trn_dep = trn_dep[:,None]\n",
    "val_dep = val_dep[:,None]"
   ],
   "id": "f91daa33e6f01167",
   "outputs": [],
   "execution_count": 199
  },
  {
   "metadata": {
    "ExecuteTime": {
     "end_time": "2025-04-26T21:41:21.640966Z",
     "start_time": "2025-04-26T21:41:21.632708Z"
    }
   },
   "cell_type": "code",
   "source": "coeffs = train_model(lr=100)",
   "id": "34361628bc5f5c1e",
   "outputs": [
    {
     "name": "stdout",
     "output_type": "stream",
     "text": [
      "0.512; 0.323; 0.290; 0.205; 0.200; 0.198; 0.197; 0.197; 0.196; 0.196; 0.196; 0.195; 0.195; 0.195; 0.195; 0.195; 0.195; 0.194; 0.194; 0.194; 0.194; 0.194; 0.194; 0.194; 0.194; 0.194; 0.194; 0.194; 0.194; 0.194; "
     ]
    }
   ],
   "execution_count": 200
  },
  {
   "metadata": {
    "ExecuteTime": {
     "end_time": "2025-04-26T21:41:21.691936Z",
     "start_time": "2025-04-26T21:41:21.686885Z"
    }
   },
   "cell_type": "code",
   "source": "acc(coeffs)",
   "id": "172ae331ec7e38b5",
   "outputs": [
    {
     "data": {
      "text/plain": [
       "tensor(0.8258)"
      ]
     },
     "execution_count": 201,
     "metadata": {},
     "output_type": "execute_result"
    }
   ],
   "execution_count": 201
  },
  {
   "metadata": {},
   "cell_type": "markdown",
   "source": "# A neural network",
   "id": "e8dada484cc371c"
  },
  {
   "metadata": {
    "ExecuteTime": {
     "end_time": "2025-04-26T21:41:21.742659Z",
     "start_time": "2025-04-26T21:41:21.738825Z"
    }
   },
   "cell_type": "code",
   "source": [
    "def init_coeffs(n_hidden=20):\n",
    "    layer1 = (torch.rand(n_coeff, n_hidden)-0.5)/n_hidden\n",
    "    layer2 = torch.rand(n_hidden, 1)-0.3\n",
    "    const = torch.rand(1)[0]\n",
    "    return layer1.requires_grad_(),layer2.requires_grad_(),const.requires_grad_()"
   ],
   "id": "f4cdac2fcfb9938b",
   "outputs": [],
   "execution_count": 202
  },
  {
   "metadata": {
    "ExecuteTime": {
     "end_time": "2025-04-26T21:41:21.797330Z",
     "start_time": "2025-04-26T21:41:21.794414Z"
    }
   },
   "cell_type": "code",
   "source": [
    "def calc_preds(coeffs, indeps):\n",
    "    l1,l2,const = coeffs\n",
    "    res = F.relu(indeps@l1)\n",
    "    res = res@l2 + const\n",
    "    return torch.sigmoid(res)\n",
    "     \n",
    "def update_coeffs(coeffs, lr):\n",
    "    for layer in coeffs:\n",
    "        layer.sub_(layer.grad * lr)\n",
    "        layer.grad.zero_()"
   ],
   "id": "63e51845abbd1616",
   "outputs": [],
   "execution_count": 203
  },
  {
   "metadata": {
    "ExecuteTime": {
     "end_time": "2025-04-26T21:41:21.876392Z",
     "start_time": "2025-04-26T21:41:21.842256Z"
    }
   },
   "cell_type": "code",
   "source": "coeffs = train_model(lr=1.4)",
   "id": "bffad2709499784a",
   "outputs": [
    {
     "name": "stdout",
     "output_type": "stream",
     "text": [
      "0.543; 0.532; 0.520; 0.505; 0.487; 0.466; 0.439; 0.407; 0.373; 0.343; 0.319; 0.301; 0.286; 0.274; 0.264; 0.256; 0.250; 0.245; 0.240; 0.237; 0.234; 0.231; 0.229; 0.227; 0.226; 0.224; 0.223; 0.222; 0.221; 0.220; "
     ]
    }
   ],
   "execution_count": 204
  },
  {
   "metadata": {
    "ExecuteTime": {
     "end_time": "2025-04-26T21:41:21.911186Z",
     "start_time": "2025-04-26T21:41:21.897740Z"
    }
   },
   "cell_type": "code",
   "source": "coeffs = train_model(lr=20)",
   "id": "124a9316d058ef77",
   "outputs": [
    {
     "name": "stdout",
     "output_type": "stream",
     "text": [
      "0.543; 0.400; 0.260; 0.390; 0.221; 0.211; 0.197; 0.195; 0.193; 0.193; 0.193; 0.193; 0.193; 0.193; 0.193; 0.193; 0.193; 0.192; 0.192; 0.192; 0.192; 0.192; 0.192; 0.192; 0.192; 0.192; 0.192; 0.192; 0.192; 0.192; "
     ]
    }
   ],
   "execution_count": 205
  },
  {
   "metadata": {
    "ExecuteTime": {
     "end_time": "2025-04-26T21:41:21.955693Z",
     "start_time": "2025-04-26T21:41:21.951160Z"
    }
   },
   "cell_type": "code",
   "source": "acc(coeffs)",
   "id": "103db042ccc87910",
   "outputs": [
    {
     "data": {
      "text/plain": [
       "tensor(0.8258)"
      ]
     },
     "execution_count": 206,
     "metadata": {},
     "output_type": "execute_result"
    }
   ],
   "execution_count": 206
  },
  {
   "metadata": {},
   "cell_type": "markdown",
   "source": "# Deep learning",
   "id": "752a187b71806d72"
  },
  {
   "metadata": {
    "ExecuteTime": {
     "end_time": "2025-04-26T21:41:22.005747Z",
     "start_time": "2025-04-26T21:41:22.002153Z"
    }
   },
   "cell_type": "code",
   "source": [
    "def init_coeffs():\n",
    "    hiddens = [10, 10]  # <-- set this to the size of each hidden layer you want\n",
    "    sizes = [n_coeff] + hiddens + [1]\n",
    "    n = len(sizes)\n",
    "    layers = [(torch.rand(sizes[i], sizes[i+1])-0.3)/sizes[i+1]*4 for i in range(n-1)]\n",
    "    consts = [(torch.rand(1)[0]-0.5)*0.1 for i in range(n-1)]\n",
    "    for l in layers+consts: l.requires_grad_()\n",
    "    return layers,consts"
   ],
   "id": "f2bc882411e5342d",
   "outputs": [],
   "execution_count": 207
  },
  {
   "metadata": {
    "ExecuteTime": {
     "end_time": "2025-04-26T21:41:22.052680Z",
     "start_time": "2025-04-26T21:41:22.048690Z"
    }
   },
   "cell_type": "code",
   "source": [
    "import torch.nn.functional as F\n",
    "\n",
    "def calc_preds(coeffs, indeps):\n",
    "    layers,consts = coeffs\n",
    "    n = len(layers)\n",
    "    res = indeps\n",
    "    for i,l in enumerate(layers):\n",
    "        res = res@l + consts[i]\n",
    "        if i!=n-1: res = F.relu(res)\n",
    "    return torch.sigmoid(res)\n",
    "     \n",
    "def update_coeffs(coeffs, lr):\n",
    "    layers,consts = coeffs\n",
    "    for layer in layers+consts:\n",
    "        layer.sub_(layer.grad * lr)\n",
    "        layer.grad.zero_()"
   ],
   "id": "311f67c82de21d3",
   "outputs": [],
   "execution_count": 208
  },
  {
   "metadata": {
    "ExecuteTime": {
     "end_time": "2025-04-26T21:41:22.117574Z",
     "start_time": "2025-04-26T21:41:22.094251Z"
    }
   },
   "cell_type": "code",
   "source": "coeffs = train_model(lr=4)",
   "id": "c8279878dbedaeda",
   "outputs": [
    {
     "name": "stdout",
     "output_type": "stream",
     "text": [
      "0.521; 0.483; 0.427; 0.379; 0.379; 0.379; 0.379; 0.378; 0.378; 0.378; 0.378; 0.378; 0.378; 0.378; 0.378; 0.378; 0.377; 0.376; 0.371; 0.333; 0.239; 0.224; 0.208; 0.204; 0.203; 0.203; 0.207; 0.197; 0.196; 0.195; "
     ]
    }
   ],
   "execution_count": 209
  },
  {
   "metadata": {
    "ExecuteTime": {
     "end_time": "2025-04-26T21:41:22.152235Z",
     "start_time": "2025-04-26T21:41:22.147985Z"
    }
   },
   "cell_type": "code",
   "source": "acc(coeffs)",
   "id": "6a21471f1106afb4",
   "outputs": [
    {
     "data": {
      "text/plain": [
       "tensor(0.8258)"
      ]
     },
     "execution_count": 210,
     "metadata": {},
     "output_type": "execute_result"
    }
   ],
   "execution_count": 210
  },
  {
   "metadata": {
    "ExecuteTime": {
     "end_time": "2025-04-26T21:41:22.199266Z",
     "start_time": "2025-04-26T21:41:22.197425Z"
    }
   },
   "cell_type": "code",
   "source": "",
   "id": "4d914a8e1ebd3448",
   "outputs": [],
   "execution_count": null
  }
 ],
 "metadata": {
  "kernelspec": {
   "display_name": "Python 3",
   "language": "python",
   "name": "python3"
  },
  "language_info": {
   "codemirror_mode": {
    "name": "ipython",
    "version": 2
   },
   "file_extension": ".py",
   "mimetype": "text/x-python",
   "name": "python",
   "nbconvert_exporter": "python",
   "pygments_lexer": "ipython2",
   "version": "2.7.6"
  }
 },
 "nbformat": 4,
 "nbformat_minor": 5
}
